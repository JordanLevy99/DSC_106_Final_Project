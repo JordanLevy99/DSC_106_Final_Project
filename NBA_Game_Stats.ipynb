{
 "cells": [
  {
   "cell_type": "code",
   "execution_count": 1,
   "metadata": {},
   "outputs": [],
   "source": [
    "import requests\n",
    "import pandas as pd\n",
    "import numpy as np\n",
    "import re\n",
    "from bs4 import BeautifulSoup\n",
    "from nba_api.stats.endpoints import leaguedashplayershotlocations"
   ]
  },
  {
   "cell_type": "code",
   "execution_count": 2,
   "metadata": {},
   "outputs": [
    {
     "data": {
      "text/plain": [
       "nba_api.stats.endpoints.leaguedashplayershotlocations.LeagueDashPlayerShotLocations"
      ]
     },
     "execution_count": 2,
     "metadata": {},
     "output_type": "execute_result"
    }
   ],
   "source": [
    "leaguedashplayershotlocations.LeagueDashPlayerShotLocations\n"
   ]
  },
  {
   "cell_type": "code",
   "execution_count": 3,
   "metadata": {},
   "outputs": [],
   "source": [
    "def shot_location_scraper(start_yr, end_yr):\n",
    "    for yr in range(int(start_yr), int(end_yr)+1):\n",
    "        yr_str = '{}-{}'.format(yr, str(yr+1)[-2:])\n",
    "        %time player_info = leaguedashplayershotlocations.LeagueDashPlayerShotLocations(season=yr_str)\n",
    "        yr_data = player_info.get_dict()['resultSets']\n",
    "        headers = yr_data['headers']\n",
    "        data = yr_data['rowSet']\n",
    "        sub_headers = headers[1]['columnNames']\n",
    "        top_headers = headers[0]['columnNames']\n",
    "        top_headers_name = headers[0]['name']\n",
    "        sub_headers_name = headers[1]['name']\n",
    "        cur_heads = pd.MultiIndex.from_product([['Player_Info'], sub_headers[:5]])\n",
    "        final_headers = cur_heads.append(pd.MultiIndex.from_product([top_headers, sub_headers[5:8]], \n",
    "                                                  names=[top_headers_name, sub_headers_name]))\n",
    "        pd.DataFrame(data=data, columns=final_headers).to_csv('data/{}_shot_locations.csv'.format(yr_str), index=False)\n",
    "        print('{} done'.format(yr_str))"
   ]
  },
  {
   "cell_type": "code",
   "execution_count": 4,
   "metadata": {},
   "outputs": [],
   "source": [
    "#shot_location_scraper(2000, 2020)"
   ]
  },
  {
   "cell_type": "code",
   "execution_count": null,
   "metadata": {},
   "outputs": [],
   "source": []
  },
  {
   "cell_type": "code",
   "execution_count": 5,
   "metadata": {},
   "outputs": [],
   "source": [
    "link = requests.get(\"https://stats.nba.com/teams/traditional/?sort=FG3M&dir=-1&Season=2019-20&SeasonType=Regular%20Season&PerMode=Totals\")"
   ]
  },
  {
   "cell_type": "code",
   "execution_count": 6,
   "metadata": {},
   "outputs": [],
   "source": [
    "html = link.content\n",
    "parser = BeautifulSoup(html, \"html.parser\")"
   ]
  },
  {
   "cell_type": "code",
   "execution_count": 7,
   "metadata": {},
   "outputs": [],
   "source": [
    "all_div = parser.find(\"tbody\")"
   ]
  },
  {
   "cell_type": "code",
   "execution_count": 8,
   "metadata": {},
   "outputs": [],
   "source": [
    "all_div"
   ]
  },
  {
   "cell_type": "code",
   "execution_count": 11,
   "metadata": {},
   "outputs": [
    {
     "name": "stdout",
     "output_type": "stream",
     "text": [
      "None\n"
     ]
    }
   ],
   "source": [
    "bs = BeautifulSoup(html)\n",
    "table = bs.find(lambda tag: tag.name=='div' and tag.has_attr('class') and tag['class']==\"stats-table-pagination\") \n",
    "print(table)\n",
    "#rows = table.findAll(lambda tag: tag.name=='tr')"
   ]
  },
  {
   "cell_type": "code",
   "execution_count": 15,
   "metadata": {},
   "outputs": [
    {
     "data": {
      "text/html": [
       "<div>\n",
       "<style scoped>\n",
       "    .dataframe tbody tr th:only-of-type {\n",
       "        vertical-align: middle;\n",
       "    }\n",
       "\n",
       "    .dataframe tbody tr th {\n",
       "        vertical-align: top;\n",
       "    }\n",
       "\n",
       "    .dataframe thead th {\n",
       "        text-align: right;\n",
       "    }\n",
       "</style>\n",
       "<table border=\"1\" class=\"dataframe\">\n",
       "  <thead>\n",
       "    <tr style=\"text-align: right;\">\n",
       "      <th></th>\n",
       "      <th>Unnamed: 0</th>\n",
       "      <th>TEAM</th>\n",
       "      <th>GP</th>\n",
       "      <th>W</th>\n",
       "      <th>L</th>\n",
       "      <th>WIN%</th>\n",
       "      <th>MIN</th>\n",
       "      <th>PTS</th>\n",
       "      <th>FGM</th>\n",
       "      <th>FGA</th>\n",
       "      <th>...</th>\n",
       "      <th>DREB</th>\n",
       "      <th>REB</th>\n",
       "      <th>AST</th>\n",
       "      <th>TOV</th>\n",
       "      <th>STL</th>\n",
       "      <th>BLK</th>\n",
       "      <th>BLKA</th>\n",
       "      <th>PF</th>\n",
       "      <th>PFD</th>\n",
       "      <th>Season</th>\n",
       "    </tr>\n",
       "  </thead>\n",
       "  <tbody>\n",
       "    <tr>\n",
       "      <th>0</th>\n",
       "      <td>1</td>\n",
       "      <td>Milwaukee Bucks</td>\n",
       "      <td>65</td>\n",
       "      <td>53</td>\n",
       "      <td>12</td>\n",
       "      <td>0.815</td>\n",
       "      <td>48.2</td>\n",
       "      <td>118.6</td>\n",
       "      <td>43.5</td>\n",
       "      <td>91.2</td>\n",
       "      <td>...</td>\n",
       "      <td>42.2</td>\n",
       "      <td>51.7</td>\n",
       "      <td>25.9</td>\n",
       "      <td>14.9</td>\n",
       "      <td>7.4</td>\n",
       "      <td>6.0</td>\n",
       "      <td>4.6</td>\n",
       "      <td>19.2</td>\n",
       "      <td>21.3</td>\n",
       "      <td>2019-20</td>\n",
       "    </tr>\n",
       "    <tr>\n",
       "      <th>1</th>\n",
       "      <td>2</td>\n",
       "      <td>Los Angeles Lakers</td>\n",
       "      <td>63</td>\n",
       "      <td>49</td>\n",
       "      <td>14</td>\n",
       "      <td>0.778</td>\n",
       "      <td>48.2</td>\n",
       "      <td>114.3</td>\n",
       "      <td>42.9</td>\n",
       "      <td>88.6</td>\n",
       "      <td>...</td>\n",
       "      <td>35.5</td>\n",
       "      <td>46.1</td>\n",
       "      <td>25.9</td>\n",
       "      <td>15.1</td>\n",
       "      <td>8.6</td>\n",
       "      <td>6.8</td>\n",
       "      <td>3.7</td>\n",
       "      <td>20.6</td>\n",
       "      <td>21.4</td>\n",
       "      <td>2019-20</td>\n",
       "    </tr>\n",
       "    <tr>\n",
       "      <th>2</th>\n",
       "      <td>3</td>\n",
       "      <td>Toronto Raptors</td>\n",
       "      <td>64</td>\n",
       "      <td>46</td>\n",
       "      <td>18</td>\n",
       "      <td>0.719</td>\n",
       "      <td>48.3</td>\n",
       "      <td>113.0</td>\n",
       "      <td>40.6</td>\n",
       "      <td>88.5</td>\n",
       "      <td>...</td>\n",
       "      <td>35.5</td>\n",
       "      <td>45.2</td>\n",
       "      <td>25.4</td>\n",
       "      <td>14.4</td>\n",
       "      <td>8.8</td>\n",
       "      <td>4.9</td>\n",
       "      <td>5.3</td>\n",
       "      <td>21.5</td>\n",
       "      <td>20.0</td>\n",
       "      <td>2019-20</td>\n",
       "    </tr>\n",
       "    <tr>\n",
       "      <th>3</th>\n",
       "      <td>4</td>\n",
       "      <td>LA Clippers</td>\n",
       "      <td>64</td>\n",
       "      <td>44</td>\n",
       "      <td>20</td>\n",
       "      <td>0.688</td>\n",
       "      <td>48.2</td>\n",
       "      <td>116.2</td>\n",
       "      <td>41.6</td>\n",
       "      <td>89.7</td>\n",
       "      <td>...</td>\n",
       "      <td>37.0</td>\n",
       "      <td>48.0</td>\n",
       "      <td>23.8</td>\n",
       "      <td>14.8</td>\n",
       "      <td>7.1</td>\n",
       "      <td>5.0</td>\n",
       "      <td>4.9</td>\n",
       "      <td>22.0</td>\n",
       "      <td>22.8</td>\n",
       "      <td>2019-20</td>\n",
       "    </tr>\n",
       "    <tr>\n",
       "      <th>4</th>\n",
       "      <td>5</td>\n",
       "      <td>Boston Celtics</td>\n",
       "      <td>64</td>\n",
       "      <td>43</td>\n",
       "      <td>21</td>\n",
       "      <td>0.672</td>\n",
       "      <td>48.4</td>\n",
       "      <td>113.0</td>\n",
       "      <td>41.2</td>\n",
       "      <td>89.6</td>\n",
       "      <td>...</td>\n",
       "      <td>35.3</td>\n",
       "      <td>46.0</td>\n",
       "      <td>22.8</td>\n",
       "      <td>13.6</td>\n",
       "      <td>8.3</td>\n",
       "      <td>5.6</td>\n",
       "      <td>5.6</td>\n",
       "      <td>21.4</td>\n",
       "      <td>20.6</td>\n",
       "      <td>2019-20</td>\n",
       "    </tr>\n",
       "  </tbody>\n",
       "</table>\n",
       "<p>5 rows × 28 columns</p>\n",
       "</div>"
      ],
      "text/plain": [
       "   Unnamed: 0                TEAM  GP   W   L   WIN%   MIN    PTS   FGM   FGA  \\\n",
       "0           1     Milwaukee Bucks  65  53  12  0.815  48.2  118.6  43.5  91.2   \n",
       "1           2  Los Angeles Lakers  63  49  14  0.778  48.2  114.3  42.9  88.6   \n",
       "2           3     Toronto Raptors  64  46  18  0.719  48.3  113.0  40.6  88.5   \n",
       "3           4         LA Clippers  64  44  20  0.688  48.2  116.2  41.6  89.7   \n",
       "4           5      Boston Celtics  64  43  21  0.672  48.4  113.0  41.2  89.6   \n",
       "\n",
       "   ...  DREB   REB   AST   TOV  STL  BLK  BLKA    PF   PFD   Season  \n",
       "0  ...  42.2  51.7  25.9  14.9  7.4  6.0   4.6  19.2  21.3  2019-20  \n",
       "1  ...  35.5  46.1  25.9  15.1  8.6  6.8   3.7  20.6  21.4  2019-20  \n",
       "2  ...  35.5  45.2  25.4  14.4  8.8  4.9   5.3  21.5  20.0  2019-20  \n",
       "3  ...  37.0  48.0  23.8  14.8  7.1  5.0   4.9  22.0  22.8  2019-20  \n",
       "4  ...  35.3  46.0  22.8  13.6  8.3  5.6   5.6  21.4  20.6  2019-20  \n",
       "\n",
       "[5 rows x 28 columns]"
      ]
     },
     "execution_count": 15,
     "metadata": {},
     "output_type": "execute_result"
    }
   ],
   "source": [
    "all_stats = pd.read_csv(\"NBA_Stats-Sheet1.csv\")\n",
    "all_stats.head()"
   ]
  },
  {
   "cell_type": "code",
   "execution_count": 16,
   "metadata": {},
   "outputs": [
    {
     "data": {
      "text/plain": [
       "Index(['Unnamed: 0', 'TEAM', 'GP', 'W', 'L', 'WIN%', 'MIN', 'PTS', 'FGM',\n",
       "       'FGA', 'FG%', '3:00 PM', '3PA', '3P%', 'FTM', 'FTA', 'FT%', 'OREB',\n",
       "       'DREB', 'REB', 'AST', 'TOV', 'STL', 'BLK', 'BLKA', 'PF', 'PFD',\n",
       "       'Season'],\n",
       "      dtype='object')"
      ]
     },
     "execution_count": 16,
     "metadata": {},
     "output_type": "execute_result"
    }
   ],
   "source": [
    "all_stats.columns\n",
    "#3:00 Pm is 3 pointers made/game"
   ]
  },
  {
   "cell_type": "code",
   "execution_count": 17,
   "metadata": {},
   "outputs": [
    {
     "data": {
      "text/plain": [
       "Season\n",
       "2000-01     94.810345\n",
       "2001-02     95.472414\n",
       "2002-03     95.089655\n",
       "2003-04     93.396552\n",
       "2004-05     97.190000\n",
       "2005-06     97.013333\n",
       "2006-07     98.740000\n",
       "2007-08     99.923333\n",
       "2008-09     99.943333\n",
       "2009-10    100.450000\n",
       "2010-11     99.553333\n",
       "2011-12     96.260000\n",
       "2012-13     98.136667\n",
       "2013-14    101.010000\n",
       "2014-15    100.016667\n",
       "2015-16    102.663333\n",
       "2016-17    105.590000\n",
       "2017-18    106.336667\n",
       "2018-19    111.203333\n",
       "2019-20    111.463333\n",
       "Name: PTS, dtype: float64"
      ]
     },
     "execution_count": 17,
     "metadata": {},
     "output_type": "execute_result"
    }
   ],
   "source": [
    "all_stats.groupby(\"Season\").mean()[\"PTS\"]"
   ]
  },
  {
   "cell_type": "code",
   "execution_count": 18,
   "metadata": {},
   "outputs": [
    {
     "data": {
      "text/plain": [
       "Season\n",
       "2000-01     4.841379\n",
       "2001-02     5.213793\n",
       "2002-03     5.134483\n",
       "2003-04     5.182759\n",
       "2004-05     5.600000\n",
       "2005-06     5.726667\n",
       "2006-07     6.070000\n",
       "2007-08     6.563333\n",
       "2008-09     6.653333\n",
       "2009-10     6.440000\n",
       "2010-11     6.463333\n",
       "2011-12     6.406667\n",
       "2012-13     7.163333\n",
       "2013-14     7.743333\n",
       "2014-15     7.850000\n",
       "2015-16     8.506667\n",
       "2016-17     9.650000\n",
       "2017-18    10.486667\n",
       "2018-19    11.360000\n",
       "2019-20    12.140000\n",
       "Name: 3:00 PM, dtype: float64"
      ]
     },
     "execution_count": 18,
     "metadata": {},
     "output_type": "execute_result"
    }
   ],
   "source": [
    "all_stats.groupby(\"Season\").mean()[\"3:00 PM\"]"
   ]
  },
  {
   "cell_type": "code",
   "execution_count": 19,
   "metadata": {},
   "outputs": [],
   "source": [
    "Two_pointers_pg = (all_stats.groupby(\"Season\").mean()[\"PTS\"] - all_stats.groupby(\"Season\").mean()[\"3PA\"])/2"
   ]
  },
  {
   "cell_type": "code",
   "execution_count": 20,
   "metadata": {},
   "outputs": [
    {
     "data": {
      "text/plain": [
       "Season\n",
       "2000-01    40.551724\n",
       "2001-02    40.358621\n",
       "2002-03    40.206897\n",
       "2003-04    39.237931\n",
       "2004-05    40.720000\n",
       "2005-06    40.515000\n",
       "2006-07    40.900000\n",
       "2007-08    40.908333\n",
       "2008-09    40.905000\n",
       "2009-10    41.156667\n",
       "2010-11    40.771667\n",
       "2011-12    38.936667\n",
       "2012-13    39.085000\n",
       "2013-14    39.736667\n",
       "2014-15    38.803333\n",
       "2015-16    39.290000\n",
       "2016-17    39.293333\n",
       "2017-18    38.670000\n",
       "2018-19    39.598333\n",
       "2019-20    38.761667\n",
       "dtype: float64"
      ]
     },
     "execution_count": 20,
     "metadata": {},
     "output_type": "execute_result"
    }
   ],
   "source": [
    "Two_pointers_pg"
   ]
  },
  {
   "cell_type": "code",
   "execution_count": null,
   "metadata": {},
   "outputs": [],
   "source": []
  }
 ],
 "metadata": {
  "kernelspec": {
   "display_name": "Python 3",
   "language": "python",
   "name": "python3"
  },
  "language_info": {
   "codemirror_mode": {
    "name": "ipython",
    "version": 3
   },
   "file_extension": ".py",
   "mimetype": "text/x-python",
   "name": "python",
   "nbconvert_exporter": "python",
   "pygments_lexer": "ipython3",
   "version": "3.7.6"
  }
 },
 "nbformat": 4,
 "nbformat_minor": 4
}
